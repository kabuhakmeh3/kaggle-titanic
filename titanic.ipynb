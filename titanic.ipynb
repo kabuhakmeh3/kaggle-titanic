{
  "nbformat_minor": 1,
  "nbformat": 4,
  "metadata": {
    "kernelspec": {
      "display_name": "Python 3",
      "language": "python",
      "name": "python3"
    },
    "language_info": {
      "codemirror_mode": {
        "name": "ipython",
        "version": 3
      },
      "pygments_lexer": "ipython3",
      "name": "python",
      "file_extension": ".py",
      "nbconvert_exporter": "python",
      "mimetype": "text/x-python",
      "version": "3.6.1"
    }
  },
  "cells": [
    {
      "execution_count": null,
      "cell_type": "code",
      "metadata": {
        "_uuid": "8614901f88984c074e63e80312907fd8d10eb9b4",
        "_cell_guid": "5dcb3e8c-df94-4b23-88f5-1aec26dff204",
        "collapsed": true
      },
      "outputs": [],
      "source": [
        "import numpy as np \n",
        "import pandas as pd \n",
        "import matplotlib.pyplot as plt\n",
        "import seaborn as sns\n",
        "%matplotlib inline"
      ]
    },
    {
      "cell_type": "markdown",
      "metadata": {
        "_uuid": "381aab5e24c2ab7755ed9cc201bc0c63b0fc866e",
        "_cell_guid": "77196f72-cd32-41b8-b44a-b0610371b171"
      },
      "source": [
        "Define functions for later use"
      ]
    },
    {
      "execution_count": null,
      "cell_type": "code",
      "metadata": {
        "_uuid": "80059b076296bd2e2cf1dafc0f9fd1c1d49e89dc",
        "_cell_guid": "bf44dfae-b623-4f74-8b3e-8eaf484ceed2",
        "collapsed": true
      },
      "outputs": [],
      "source": [
        "# Get Scaled data\n",
        "def scale_data(X_Training, X_Testing):\n",
        "    sc = StandardScaler()\n",
        "    sc.fit(X_Training)\n",
        "    X_Training_std = sc.transform(X_Training)\n",
        "    X_Testing_std = sc.transform(X_Testing)\n",
        "    return X_Training_std, X_Testing_std\n",
        "\n",
        "# Logistic Regression\n",
        "def run_logistic_regression(X_Training, X_Testing, y_Training):\n",
        "    logreg = LogisticRegression()\n",
        "    logreg.fit(X_Training, y_Training)\n",
        "    y_Predicted = logreg.predict(X_Testing)\n",
        "    return y_Predicted"
      ]
    },
    {
      "execution_count": null,
      "cell_type": "code",
      "metadata": {
        "_uuid": "8b6487be1f708d95293165fb286c30d3a616fc82",
        "_cell_guid": "7fdc9294-d17e-4350-be8e-45548dcb977a",
        "collapsed": true
      },
      "outputs": [],
      "source": [
        "test_data = pd.read_csv('../input/test.csv') # 418 rows test_data.describe()\n",
        "train_data = pd.read_csv('../input/train.csv') # 891 rows train_data.describe()"
      ]
    },
    {
      "execution_count": null,
      "cell_type": "code",
      "metadata": {
        "_uuid": "6820314daf1ae6904b3fabb5f50c048619d64d08",
        "_cell_guid": "9457e6ae-33d0-4ad7-bc0a-cd689f2c36e2",
        "collapsed": true
      },
      "outputs": [],
      "source": [
        "test_data.head(3)"
      ]
    },
    {
      "cell_type": "markdown",
      "metadata": {
        "_uuid": "f1a9831b34946d479b5a06a448d6315dc9489a83",
        "_cell_guid": "98440352-4bd0-4957-8399-d86612f2a5bb"
      },
      "source": [
        "The testing set does not have information on whether the passenger survived. Therefore, we need to also train/test on the training data. "
      ]
    },
    {
      "cell_type": "markdown",
      "metadata": {
        "_uuid": "393426e7f443cfac3a5f045f61c4d7d5051fc709",
        "_cell_guid": "6623c0fc-bc91-4b36-aef1-ff8cb54d1338"
      },
      "source": [
        "\n",
        "## First, let's get some visualization of the data"
      ]
    },
    {
      "execution_count": null,
      "cell_type": "code",
      "metadata": {
        "_uuid": "39ccd19d05b1a6df3b610ffdd4c4af2e06e534b8",
        "_cell_guid": "ebd98484-ff93-4a98-8d5f-3ebea04c560e",
        "collapsed": true
      },
      "outputs": [],
      "source": [
        "plt.style.use('fivethirtyeight')\n",
        "sns.countplot(x='Embarked', data=train_data, hue='Survived') \n",
        "# looks like embarking at \"S\" lowers the likelihood of survival "
      ]
    },
    {
      "execution_count": null,
      "cell_type": "code",
      "metadata": {
        "_uuid": "d2b65ebfc827cb1c392cf220e7adad6fa8f60195",
        "_cell_guid": "014f7695-6d3e-4a88-8052-bcf228114c61",
        "collapsed": true
      },
      "outputs": [],
      "source": [
        "sns.countplot(x='Pclass', data=train_data, hue='Survived') \n",
        "# 3rd class passengers are less likely to survive"
      ]
    },
    {
      "execution_count": null,
      "cell_type": "code",
      "metadata": {
        "_uuid": "065dcd1e497281df5e06ae34e52869aa6f33b96d",
        "_cell_guid": "09348998-adf0-4f06-89d4-407bf33540a7",
        "collapsed": true
      },
      "outputs": [],
      "source": [
        "plt.figure()\n",
        "train_data[train_data['Survived'] == 1]['Age'].hist(alpha=0.5, color='blue',\n",
        "                                                bins=40, label='Survived')\n",
        "train_data[train_data['Survived'] == 0]['Age'].hist(alpha=0.5, color='red', \n",
        "                                                bins = 40, label='Did Not Survive')\n",
        "plt.legend()\n",
        "plt.xlabel('Age')\n",
        "plt.ylabel('Count')\n",
        "# Passengers aged ~20-30 seem to be more likely to not survive\n",
        "# otherwise, the ratio is close to 1:1"
      ]
    },
    {
      "execution_count": null,
      "cell_type": "code",
      "metadata": {
        "_uuid": "18c6cf962968303ade317dab746fa93509f78ff9",
        "_cell_guid": "935bc40d-3e82-42a2-9718-f349594be571",
        "collapsed": true
      },
      "outputs": [],
      "source": [
        "# get an idea of where which data are missing\n",
        "train_data.isnull().sum()"
      ]
    },
    {
      "execution_count": null,
      "cell_type": "code",
      "metadata": {
        "_uuid": "ef690f8c781400a5472432139d1c6e2803f88a72",
        "_cell_guid": "a36faf33-777f-499a-bb37-7fd399a3e96a",
        "collapsed": true
      },
      "outputs": [],
      "source": [
        "# impute the age based on average within gender, class, and whether they had family (sibsp)\n",
        "ages = train_data.groupby(['Pclass','Sex','SibSp'])['Age'].mean()\n",
        "\n",
        "# large families have low age average, replace by smallest value for nan\n",
        "ages.fillna(method='ffill', inplace=True) # forward fill Nan values ... reasonable for now\n",
        "train_data.drop(['PassengerId', 'Name', 'Ticket','Cabin'], axis=1, inplace=True)\n",
        "test_data.drop(['PassengerId', 'Name', 'Ticket','Cabin'], axis=1, inplace=True)"
      ]
    },
    {
      "cell_type": "markdown",
      "metadata": {
        "_uuid": "b1242808cba32a25d372a8610e104e10097da111",
        "_cell_guid": "f52ba9fa-7546-4692-b284-6f5fec257a3c"
      },
      "source": [
        "## Handle missing ages (by sex/class/sibsp)\n",
        "+ Try with apply/lambda later"
      ]
    },
    {
      "execution_count": null,
      "cell_type": "code",
      "metadata": {
        "_uuid": "47e77b12b2e3e1e729fd763104e86518b4771d88",
        "_cell_guid": "e1ecb686-1775-4dbf-9f62-6017a8ba7632",
        "collapsed": true
      },
      "outputs": [],
      "source": [
        "#train_data.fillna(method='ffill',inplace=True) ## OLD method\n",
        "df_age = train_data[train_data['Age'].isnull()]\n",
        "df_age.reset_index(drop=True, inplace=True)\n",
        "imputed_age_list = []\n",
        "# get ages from averaged list\n",
        "for i in df_age.index.values:\n",
        "    imputed_age_list.append(ages[df_age.iloc[i]['Pclass']][df_age.iloc[i]['Sex']][df_age.iloc[i]['SibSp']])\n",
        "imputed_age_series = pd.Series(imputed_age_list)\n",
        "df_age['Age'] = imputed_age_series\n",
        "df_no_nan= train_data.dropna()\n",
        "all_ages = pd.concat([df_no_nan, df_age])"
      ]
    },
    {
      "execution_count": null,
      "cell_type": "code",
      "metadata": {
        "_uuid": "24c3829a1292f0773f2aeb80d366371408339dee",
        "_cell_guid": "fc6f372b-aa03-40cf-af58-2974e41496bd",
        "collapsed": true
      },
      "outputs": [],
      "source": [
        "all_ages.isnull().sum()"
      ]
    },
    {
      "execution_count": null,
      "cell_type": "code",
      "metadata": {
        "_uuid": "17d78840b2237c228a7cfb67da866eee3762743f",
        "_cell_guid": "c17838ff-cf42-49d0-9e0b-c8c71b287592",
        "collapsed": true
      },
      "outputs": [],
      "source": [
        "# Convert categorical data into 1 or 0\n",
        "final_data = pd.get_dummies(all_ages, prefix=['Sex', 'Embarked'])\n",
        "final_data.head(3)"
      ]
    },
    {
      "execution_count": null,
      "cell_type": "code",
      "metadata": {
        "_uuid": "660b917ae6b998181653e9732d9f86ad3125b03b",
        "_cell_guid": "87fa8f5b-c9b0-41c4-aa45-4a9bb2cef063",
        "collapsed": true
      },
      "outputs": [],
      "source": [
        "X = final_data.drop('Survived', axis=1)\n",
        "y = final_data['Survived']"
      ]
    },
    {
      "execution_count": null,
      "cell_type": "code",
      "metadata": {
        "_uuid": "faab08393668d28d7af987cbe35cd16cc5d72a6f",
        "_cell_guid": "e9f55f23-114e-4178-b38b-6750691eecd6",
        "collapsed": true
      },
      "outputs": [],
      "source": [
        "from sklearn.model_selection import train_test_split\n",
        "from sklearn.metrics import classification_report, confusion_matrix, accuracy_score"
      ]
    },
    {
      "execution_count": null,
      "cell_type": "code",
      "metadata": {
        "_uuid": "31ba751d8d5352030e18b21405df37ad7779ca95",
        "_cell_guid": "28609fcc-d03b-4953-af1c-38f500bc1bfd",
        "collapsed": true
      },
      "outputs": [],
      "source": [
        "X_train, X_test, y_train, y_test = train_test_split(X, y, test_size=0.3, random_state=4)"
      ]
    },
    {
      "cell_type": "markdown",
      "metadata": {
        "_uuid": "90fdb3e7eef284b27b565b643dd89bd353356994",
        "_cell_guid": "8472b6e3-c1a6-4778-b435-44b73933c084"
      },
      "source": [
        "## Models to test\n",
        "+ Logistic Regression\n",
        "+ K-nearest neighbors\n",
        "+ Random Forests\n",
        "+ SVC"
      ]
    },
    {
      "execution_count": null,
      "cell_type": "code",
      "metadata": {
        "_uuid": "af8c87e97330e7b10f073e470fda036002daace2",
        "_cell_guid": "65ca5650-efc5-4f2a-94ab-077e57c99231",
        "collapsed": true
      },
      "outputs": [],
      "source": [
        "# let's test out a few models\n",
        "from sklearn.linear_model import LogisticRegression\n",
        "from sklearn.neighbors import KNeighborsClassifier\n",
        "from sklearn.ensemble import RandomForestClassifier"
      ]
    },
    {
      "cell_type": "markdown",
      "metadata": {
        "_uuid": "7ef245d4ee35e79f5f727817b3e8a38306d40668",
        "_cell_guid": "d439d79f-00a0-4103-9511-8c7876552133"
      },
      "source": [
        "# Logistic Regression"
      ]
    },
    {
      "execution_count": null,
      "cell_type": "code",
      "metadata": {
        "_uuid": "42b6af41c1ca6fb3525fc308684f1657ea4e8b66",
        "_cell_guid": "cdb6b6fe-a909-4656-af47-fdf3adfe37aa",
        "collapsed": true
      },
      "outputs": [],
      "source": [
        "# Logistic Regression\n",
        "logreg = LogisticRegression()\n",
        "logreg.fit(X_train, y_train)\n",
        "y_logreg = logreg.predict(X_test)\n",
        "print('Classification Report')\n",
        "print(classification_report(y_test, y_logreg))\n",
        "print('Confusion Matrix')\n",
        "print(confusion_matrix(y_test, y_logreg))\n",
        "print('Accuracy Score')\n",
        "print(accuracy_score(y_test, y_logreg))"
      ]
    },
    {
      "cell_type": "markdown",
      "metadata": {
        "_uuid": "16a2135afc8dad4d62eda85fb947e495affa513d",
        "_cell_guid": "7a76e61d-6cc4-49b0-baf0-bc8bd1f3190f"
      },
      "source": [
        "## Logistic Regression using StandardScaler"
      ]
    },
    {
      "execution_count": null,
      "cell_type": "code",
      "metadata": {
        "_uuid": "6aa65f97643b94f17cae630a03cb968e8d415fe2",
        "_cell_guid": "8d5c9063-e367-4cb6-a5dd-456075eb9991",
        "collapsed": true
      },
      "outputs": [],
      "source": [
        "from sklearn.preprocessing import StandardScaler"
      ]
    },
    {
      "execution_count": null,
      "cell_type": "code",
      "metadata": {
        "_uuid": "b4ddc2c9fcd832d9b2dae518ca83508fc22cda72",
        "_cell_guid": "3b36e051-4028-42f9-8fce-f097a1c4a615",
        "collapsed": true
      },
      "outputs": [],
      "source": [
        "sc = StandardScaler()\n",
        "sc.fit(X_train)\n",
        "X_train_std = sc.transform(X_train)\n",
        "X_test_std = sc.transform(X_test)"
      ]
    },
    {
      "execution_count": null,
      "cell_type": "code",
      "metadata": {
        "_uuid": "be64b642c5faf3d0816133ddc662c288af171482",
        "_cell_guid": "186f2217-ae2e-438b-838e-52b8210cd67b",
        "collapsed": true
      },
      "outputs": [],
      "source": [
        "# Logistic Regression w/StandardScaler\n",
        "logreg_ss = LogisticRegression()\n",
        "logreg_ss.fit(X_train_std, y_train)\n",
        "y_logreg_ss = logreg_ss.predict(X_test_std)\n",
        "print('Classification Report')\n",
        "print(classification_report(y_test, y_logreg_ss))\n",
        "print('Confusion Matrix')\n",
        "print(confusion_matrix(y_test, y_logreg_ss))\n",
        "print('Accuracy Score')\n",
        "print(accuracy_score(y_test, y_logreg_ss))"
      ]
    },
    {
      "cell_type": "markdown",
      "metadata": {
        "_uuid": "d874a8891a3ce0d8d97addca3e35b7c53f149aad",
        "_cell_guid": "36b19630-88c7-4e61-bc6c-c0cf51920589"
      },
      "source": [
        "Performance is about the same with the use of StandardScaler\n",
        "\n",
        "# K-Nearest Neighbors"
      ]
    },
    {
      "execution_count": null,
      "cell_type": "code",
      "metadata": {
        "_uuid": "3f61c70bdc809825d6917236cc11695f11fc40d8",
        "_cell_guid": "fd8a85f2-9752-48cb-ab29-d4f45d90d8e8",
        "collapsed": true
      },
      "outputs": [],
      "source": [
        "# KNN - try a range of neighbor values\n",
        "knn_accuracy = []\n",
        "for i in range(1,101):\n",
        "        knn = KNeighborsClassifier(n_neighbors=i)\n",
        "        knn.fit(X_train, y_train)\n",
        "        y_pred = knn.predict(X_test)\n",
        "        knn_accuracy.append(accuracy_score(y_test, y_pred))\n",
        "print(\"Maximum KNN Accuracy is: \", max(knn_accuracy), ' located at k-value: ', knn_accuracy.index(max(knn_accuracy))+1)"
      ]
    },
    {
      "cell_type": "markdown",
      "metadata": {
        "_uuid": "2d96a7d51ca0122f750315c2d58ef95c7a74698f",
        "_cell_guid": "711f738b-f9a7-4665-b771-f91ba36760a4"
      },
      "source": [
        "## KNN with StandardScaler"
      ]
    },
    {
      "execution_count": null,
      "cell_type": "code",
      "metadata": {
        "_uuid": "b20d58ff0e8276a8524c4512ef1a89b751fceae0",
        "_cell_guid": "953939ea-8ed2-470e-b408-824f972e4ef5",
        "collapsed": true
      },
      "outputs": [],
      "source": [
        "knn_ss_accuracy = []\n",
        "for i in range(1,101):\n",
        "        knn = KNeighborsClassifier(n_neighbors=i)\n",
        "        knn.fit(X_train_std, y_train)\n",
        "        y_pred = knn.predict(X_test_std)\n",
        "        knn_ss_accuracy.append(accuracy_score(y_test, y_pred))\n",
        "print(\"Maximum KNN Accuracy is: \", max(knn_ss_accuracy), ' located at k-value: ', knn_ss_accuracy.index(max(knn_ss_accuracy))+1)"
      ]
    },
    {
      "execution_count": null,
      "cell_type": "code",
      "metadata": {
        "_uuid": "4f3df05594b3a64d86608a9094e86a86127d5c6a",
        "_cell_guid": "f1e1fc90-75b5-4ebd-bcd9-beab92115788",
        "collapsed": true
      },
      "outputs": [],
      "source": [
        "# plot both knn graphs on one figure\n",
        "x_plt = range(1,101)\n",
        "plt.plot(x_plt,knn_accuracy)\n",
        "plt.plot(x_plt,knn_ss_accuracy)\n",
        "plt.title('knn comparison')\n",
        "plt.xlabel('k-value')\n",
        "plt.ylabel('accuracy score')\n",
        "plt.legend(['knn','knn w/scaling'])"
      ]
    },
    {
      "cell_type": "markdown",
      "metadata": {
        "_uuid": "60bf72ce5cbe6c65d76c3afcbf8a09da0bf86a41",
        "_cell_guid": "ecd9ec95-9bb3-4461-a2bc-efaa534391b7"
      },
      "source": [
        "# Random Forests"
      ]
    },
    {
      "execution_count": null,
      "cell_type": "code",
      "metadata": {
        "_uuid": "3ede0ec10890718d082c4c4255044ca83d263a6a",
        "_cell_guid": "6f6c44b7-c1c3-4ad7-9ebf-ca170c78cabd",
        "collapsed": true
      },
      "outputs": [],
      "source": [
        "# Random Forests\n",
        "rfc_accuracy=[]\n",
        "n_est = [10,20,30,40,50,60,70,80,90,100]\n",
        "for i in range(len(n_est)):\n",
        "    rfc = RandomForestClassifier(n_estimators=n_est[i])\n",
        "    rfc.fit(X_train, y_train)\n",
        "    y_pred =rfc.predict(X_test)\n",
        "    rfc_accuracy.append(accuracy_score(y_test,y_pred))\n",
        "print(\"Maximum RFC Accuracy is: \", max(rfc_accuracy), ' located at n-est: ', (rfc_accuracy.index(max(rfc_accuracy))+1)*10)"
      ]
    },
    {
      "cell_type": "markdown",
      "metadata": {
        "_uuid": "1b194b9223cb351db8543caf5abadf774d2137b7",
        "_cell_guid": "b4adc673-1224-4ce4-8173-7da7109c16da"
      },
      "source": [
        "## Random Forests with StandardScaler"
      ]
    },
    {
      "execution_count": null,
      "cell_type": "code",
      "metadata": {
        "_uuid": "a7695dfd978d2e709d49920121ba543a2ff3825d",
        "_cell_guid": "5a107c54-ca0c-4d27-b064-53ae65c5d5f8",
        "collapsed": true
      },
      "outputs": [],
      "source": [
        "rfc_ss_accuracy=[]\n",
        "n_est = [10,20,30,40,50,60,70,80,90,100]\n",
        "for i in range(len(n_est)):\n",
        "    rfc = RandomForestClassifier(n_estimators=n_est[i])\n",
        "    rfc.fit(X_train_std, y_train)\n",
        "    y_pred =rfc.predict(X_test_std)\n",
        "    rfc_ss_accuracy.append(accuracy_score(y_test,y_pred))\n",
        "print(\"Maximum RFC Accuracy is: \", max(rfc_ss_accuracy), ' located at n-est: ', (rfc_ss_accuracy.index(max(rfc_ss_accuracy))+1)*10)"
      ]
    },
    {
      "execution_count": null,
      "cell_type": "code",
      "metadata": {
        "_uuid": "2e7ec7fcfc694c8a69be1459187406fcaffc5e03",
        "_cell_guid": "8df18807-a7be-4f2f-9eca-ba68d69fd7c5",
        "collapsed": true
      },
      "outputs": [],
      "source": [
        "plt.plot(n_est,rfc_accuracy)\n",
        "plt.plot(n_est,rfc_ss_accuracy)\n",
        "plt.title('Random Forest Calibration')\n",
        "plt.xlabel('n-estimator')\n",
        "plt.ylabel('accuracy score')\n",
        "plt.legend(['rfc', 'rfc w/scaling'])"
      ]
    },
    {
      "cell_type": "markdown",
      "metadata": {
        "_uuid": "ad683a299968716da119f07c6dc4f51e2b393c42",
        "_cell_guid": "1cfe1769-fa53-4ff8-81df-f90aa070edc6"
      },
      "source": [
        "# Support Vector Classification"
      ]
    },
    {
      "execution_count": null,
      "cell_type": "code",
      "metadata": {
        "_uuid": "924636980cb675a282b53a1bbfbca62f13ac0071",
        "_cell_guid": "a530b815-4362-4f67-ac82-08d088795e7e",
        "collapsed": true
      },
      "outputs": [],
      "source": [
        "from sklearn.svm import SVC\n",
        "from sklearn.model_selection import GridSearchCV"
      ]
    },
    {
      "execution_count": null,
      "cell_type": "code",
      "metadata": {
        "_uuid": "13ec15662e45751e2c515dff7b0afdcec6753fc2",
        "_cell_guid": "097227ae-d4cc-4ead-848a-1443ded9ec49",
        "collapsed": true
      },
      "outputs": [],
      "source": [
        "param_grid = {'C': [0.1,1, 10, 100, 1000], \n",
        "              'gamma': [1,0.1,0.01,0.001,0.0001], \n",
        "              'kernel': ['rbf']} "
      ]
    },
    {
      "execution_count": null,
      "cell_type": "code",
      "metadata": {
        "_uuid": "7ba8cf0fec01af9adbaf88d62fd8144be2d68b9f",
        "_cell_guid": "c2ab8db0-9c09-4b12-8f7c-70596abc8fd6",
        "collapsed": true
      },
      "outputs": [],
      "source": [
        "grid = GridSearchCV(SVC(),param_grid,refit=True,verbose=3)\n",
        "grid.fit(X_train,y_train)\n",
        "grid.best_params_\n",
        "grid.best_estimator_\n",
        "y_grid = grid.predict(X_test)\n",
        "print('Classification Report')\n",
        "print(classification_report(y_test, y_grid))\n",
        "print('Confusion Matrix')\n",
        "print(confusion_matrix(y_test, y_grid))\n",
        "print('Accuracy Score')\n",
        "print(accuracy_score(y_test, y_grid))"
      ]
    },
    {
      "cell_type": "markdown",
      "metadata": {
        "_uuid": "4bb692325822ba33a121a13ea5fd65e03c23acf7",
        "_cell_guid": "cbe79736-34c5-4f61-8d44-d06a17dc3ece"
      },
      "source": [
        "## Summary \n",
        "+ Linear Regression - 82%/82%\n",
        "+ K-Nearest Neighbors - 72%/84% with k=25, 14, respectively\n",
        "+ Random Forests - 83%/83% with n_est=60, 40, respectively\n",
        "+ Support Vector Classifier - 80%\n",
        "\n",
        "## Next steps\n",
        "+ Try more common classifiers\n",
        "+ Parameter tuning\n",
        "+ k-fold crossvalidation\n",
        "+ Better imputation for missing data in 'Age' column\n",
        "+ functional programming to avoid repeating code (ss vs regular)"
      ]
    },
    {
      "cell_type": "markdown",
      "metadata": {
        "_uuid": "7820937e23f244ec04cc66d584956c2d02c83ebf",
        "_cell_guid": "6a4e87e4-57f2-440e-9b24-73a9c0da275b"
      },
      "source": [
        "## Grouped average age imputation did not improve performance!\n",
        "+ Earlier testing used forward filling to replace missing age values\n",
        "+ Let's try k-fold cross validation\n",
        "+ Use stratified k-fold\n",
        "+ Stratification is the process of rearranging the data as to ensure each fold is a good representative of the whole\n",
        "+ Let's do this for both logistic regression and knn as they are pretty simple to test"
      ]
    },
    {
      "execution_count": null,
      "cell_type": "code",
      "metadata": {
        "_uuid": "3199c840dc55486d930dd1d9174b55cb98b7394a",
        "_cell_guid": "d5eb0f79-a6ca-4dc8-bffd-5058c894c39e",
        "collapsed": true
      },
      "outputs": [],
      "source": [
        "from sklearn.model_selection import StratifiedKFold, cross_val_score"
      ]
    },
    {
      "execution_count": null,
      "cell_type": "code",
      "metadata": {
        "_uuid": "9a8be29e47c02231f61eb955fb4ca21c913a0c4d",
        "_cell_guid": "797037c5-796e-482b-a5f0-8aec1b0a8f35",
        "collapsed": true
      },
      "outputs": [],
      "source": [
        "# fix the indices for X and y\n",
        "X_kf = X.reset_index(drop=True)\n",
        "y_kf = y.reset_index(drop=True)"
      ]
    },
    {
      "execution_count": null,
      "cell_type": "code",
      "metadata": {
        "_uuid": "558412ab1b0ac27ca0dff8a04a8410e003c1bf92",
        "_cell_guid": "e0aa8385-37f8-4293-b625-7a12489c4956",
        "collapsed": true
      },
      "outputs": [],
      "source": [
        "kfold = StratifiedKFold(n_splits=10)"
      ]
    },
    {
      "execution_count": null,
      "cell_type": "code",
      "metadata": {
        "_uuid": "3df9fdf65ec7e8bf2702f9ac1dc75dafd03e2227",
        "_cell_guid": "0dd525f0-42fa-4ed2-a634-9e8b7fef9566",
        "collapsed": true
      },
      "outputs": [],
      "source": [
        "knn_kf = KNeighborsClassifier(n_neighbors=20)\n",
        "logreg_kf = LogisticRegression()"
      ]
    },
    {
      "execution_count": null,
      "cell_type": "code",
      "metadata": {
        "_uuid": "e1cee4bb27dd87ccd05c9e70c03706cd226aa9e0",
        "_cell_guid": "befc3297-59b2-49ce-8f1e-3aeddf515ab1",
        "collapsed": true
      },
      "outputs": [],
      "source": [
        "scores = []\n",
        "scores_lr = []\n",
        "for train_index, test_index in kfold.split(X_kf,y_kf):\n",
        "    xtrain, xtest = X_kf.iloc[train_index], X_kf.iloc[test_index]\n",
        "    ytrain, ytest = y_kf[train_index], y_kf[test_index]\n",
        "    # knn\n",
        "    knn_kf.fit(xtrain, ytrain)\n",
        "    score = knn_kf.score(xtest, ytest)\n",
        "    scores.append(score)\n",
        "    # logreg\n",
        "    logreg_kf.fit(xtrain, ytrain)\n",
        "    score_lr = logreg_kf.score(xtest, ytest)\n",
        "    scores_lr.append(score_lr)\n",
        "print(scores, scores_lr)"
      ]
    },
    {
      "execution_count": null,
      "cell_type": "code",
      "metadata": {
        "_uuid": "9e17c911bab08cb09ea49a183d7bbbb0df96b5d4",
        "_cell_guid": "ac2479c6-0c0c-4392-b4a8-d6199292fc26",
        "collapsed": true
      },
      "outputs": [],
      "source": [
        "print('Mean accuracy for knn using KFold is {:0.2f}%'.format(np.mean(scores)*100))\n",
        "print('Mean accuracy for logreg using KFold is {:0.2f}%'.format(np.mean(scores_lr)*100))"
      ]
    },
    {
      "execution_count": null,
      "cell_type": "code",
      "metadata": {
        "_uuid": "16ac7a2756c847d6a41cc6e63e63dd8e481de2a8",
        "_cell_guid": "839c0395-0da7-49e7-9e53-1be3527fa25e",
        "collapsed": true
      },
      "outputs": [],
      "source": [
        "# Try with scaling\n",
        "# fix the indices for X and y with standardscaling\n",
        "sc_cv=StandardScaler()\n",
        "sc_cv.fit(X)\n",
        "X_kf_std = sc_cv.transform(X)\n",
        "y_kf_std = y.reset_index(drop=True)\n",
        "knn_kf_ss = KNeighborsClassifier(n_neighbors=20)\n",
        "logreg_kf_ss = LogisticRegression()"
      ]
    },
    {
      "execution_count": null,
      "cell_type": "code",
      "metadata": {
        "_uuid": "8c8116c0bdedb71d1d58632e129036f53fc71b00",
        "_cell_guid": "da0f0b01-36c4-4dfa-ae37-749b15fa6a86",
        "collapsed": true
      },
      "outputs": [],
      "source": [
        "# try another way\n",
        "acc_scores = []\n",
        "ss_scores_lr = []\n",
        "for train_index, test_index in kfold.split(X_kf_std,y_kf_std):\n",
        "    xtrain, xtest = X_kf_std[train_index], X_kf_std[test_index]\n",
        "    ytrain, ytest = y_kf_std[train_index], y_kf_std[test_index]\n",
        "    #knn\n",
        "    knn_kf_ss.fit(xtrain, ytrain)\n",
        "    score = knn_kf_ss.score(xtest, ytest)\n",
        "    acc_scores.append(score)\n",
        "    #logreg\n",
        "    logreg_kf_ss.fit(xtrain, ytrain)\n",
        "    score_lr = logreg_kf_ss.score(xtest, ytest)\n",
        "    ss_scores_lr.append(score_lr)\n",
        "print(acc_scores, ss_scores_lr)"
      ]
    },
    {
      "execution_count": null,
      "cell_type": "code",
      "metadata": {
        "_uuid": "ae8cbe3c979bfbbd60757a275767afd92d2c5787",
        "_cell_guid": "b760e092-aa1e-4f44-be1f-b2079cdc52de",
        "collapsed": true
      },
      "outputs": [],
      "source": [
        "print('Mean accuracy for knn using KFold is {:0.2f}%'.format(np.mean(acc_scores)*100))\n",
        "print('Mean accuracy for logreg using KFold is {:0.2f}%'.format(np.mean(ss_scores_lr)*100))"
      ]
    },
    {
      "cell_type": "markdown",
      "metadata": {
        "_uuid": "6a60cff535350f6e80c0807fd2b6af1b3a62bcb7",
        "_cell_guid": "3cf70e60-6519-45a6-9ccf-83d493ce0fc3"
      },
      "source": [
        "## Stratified KFold Cross Validation Results\n",
        "+ Scaled and unscaled datasets used to predict passenger survival\n",
        "+ k=10 used for both cases\n",
        "+ 71% knn / 79% logreg  accuracy for unscaled data\n",
        "+ 82% knn / 80% logreg accuracy for scaled data\n",
        "+ Cross validation confirms earlier result for KNN performance\n",
        "+ How much variance is there between each sample?"
      ]
    },
    {
      "execution_count": null,
      "cell_type": "code",
      "metadata": {
        "_uuid": "27d4808a3171801eebe117dba30734223f373190",
        "_cell_guid": "6ffb75c4-cc46-40a1-83ca-c347e501047d",
        "collapsed": true
      },
      "outputs": [],
      "source": [
        "def get_df(score_list, algo_name, scaled):\n",
        "    temp_df = pd.DataFrame(score_list, columns=['Accuracy'])\n",
        "    temp_df['Algorithm'] = algo_name\n",
        "    temp_df['Scaled'] = scaled\n",
        "    return temp_df"
      ]
    },
    {
      "execution_count": null,
      "cell_type": "code",
      "metadata": {
        "_uuid": "778144dc9ae07f805751dedc33b7eef550b15cc8",
        "_cell_guid": "c2156113-8e91-48b4-93ca-fead1afb8f3b",
        "collapsed": true
      },
      "outputs": [],
      "source": [
        "df_01 = get_df(scores, algo_name='KNN', scaled=False)\n",
        "df_02 = get_df(scores_lr, algo_name='LogReg', scaled=False)\n",
        "df_03 = get_df(acc_scores, algo_name='KNN', scaled=True)\n",
        "df_04 = get_df(ss_scores_lr, algo_name='LogReg', scaled=True)\n",
        "frames = [df_01, df_02, df_03, df_04]\n",
        "all_scores = pd.concat(frames)\n",
        "all_scores.reset_index(drop=True,inplace=True)\n",
        "all_scores.head()"
      ]
    },
    {
      "execution_count": null,
      "cell_type": "code",
      "metadata": {
        "_uuid": "89ff4a8eb788a6e2e1ca86f575ba50207b8c397f",
        "_cell_guid": "69716ff5-5c8b-4610-a94f-289768d6d80c",
        "collapsed": true
      },
      "outputs": [],
      "source": [
        "sns.barplot(x='Algorithm', y='Accuracy', hue='Scaled', data=all_scores)"
      ]
    },
    {
      "cell_type": "markdown",
      "metadata": {
        "_uuid": "004368e6df5ee873cd054f07791d5e49989e8564",
        "_cell_guid": "63dda921-243d-4bb4-909b-6b5297ff80ec"
      },
      "source": [
        "## Conclusions\n",
        "+ Scaled data outperforms unscaled data for KNN (significantly) and Logistic Regression (slightly)\n",
        "+ KNN accuriacies are more varied than those for Logistic Regression from cross-validation\n",
        "+ Re-calibrating 'k' for KNN with scaling might provide the most accurate predictor\n",
        "+ Logistic Regression with StandardScaler is also a reasonable choice."
      ]
    }
  ]
}